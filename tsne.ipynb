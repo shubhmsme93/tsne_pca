{
 "cells": [
  {
   "cell_type": "code",
   "execution_count": 1,
   "metadata": {},
   "outputs": [],
   "source": [
    "import pandas as pd\n",
    "import numpy as np"
   ]
  },
  {
   "cell_type": "code",
   "execution_count": 3,
   "metadata": {},
   "outputs": [],
   "source": [
    "# load training set structures\n",
    "train = pd.read_csv('train.csv.gz')"
   ]
  },
  {
   "cell_type": "code",
   "execution_count": 4,
   "metadata": {},
   "outputs": [
    {
     "data": {
      "text/html": [
       "<div>\n",
       "<style scoped>\n",
       "    .dataframe tbody tr th:only-of-type {\n",
       "        vertical-align: middle;\n",
       "    }\n",
       "\n",
       "    .dataframe tbody tr th {\n",
       "        vertical-align: top;\n",
       "    }\n",
       "\n",
       "    .dataframe thead th {\n",
       "        text-align: right;\n",
       "    }\n",
       "</style>\n",
       "<table border=\"1\" class=\"dataframe\">\n",
       "  <thead>\n",
       "    <tr style=\"text-align: right;\">\n",
       "      <th></th>\n",
       "      <th>site_index</th>\n",
       "      <th>site_type</th>\n",
       "      <th>sortedformula</th>\n",
       "      <th>numsites</th>\n",
       "      <th>id</th>\n",
       "    </tr>\n",
       "  </thead>\n",
       "  <tbody>\n",
       "    <tr>\n",
       "      <th>0</th>\n",
       "      <td>0</td>\n",
       "      <td>Hf</td>\n",
       "      <td>Hf1 N1</td>\n",
       "      <td>2</td>\n",
       "      <td>icsd_183420</td>\n",
       "    </tr>\n",
       "    <tr>\n",
       "      <th>1</th>\n",
       "      <td>1</td>\n",
       "      <td>N</td>\n",
       "      <td>Hf1 N1</td>\n",
       "      <td>2</td>\n",
       "      <td>icsd_183420</td>\n",
       "    </tr>\n",
       "    <tr>\n",
       "      <th>2</th>\n",
       "      <td>0</td>\n",
       "      <td>Hf</td>\n",
       "      <td>Hf1 N1</td>\n",
       "      <td>2</td>\n",
       "      <td>icsd_183419</td>\n",
       "    </tr>\n",
       "    <tr>\n",
       "      <th>3</th>\n",
       "      <td>1</td>\n",
       "      <td>N</td>\n",
       "      <td>Hf1 N1</td>\n",
       "      <td>2</td>\n",
       "      <td>icsd_183419</td>\n",
       "    </tr>\n",
       "    <tr>\n",
       "      <th>4</th>\n",
       "      <td>0</td>\n",
       "      <td>Hf</td>\n",
       "      <td>Hf6 N8</td>\n",
       "      <td>14</td>\n",
       "      <td>icsd_097997</td>\n",
       "    </tr>\n",
       "  </tbody>\n",
       "</table>\n",
       "</div>"
      ],
      "text/plain": [
       "   site_index site_type sortedformula  numsites           id\n",
       "0           0        Hf        Hf1 N1         2  icsd_183420\n",
       "1           1         N        Hf1 N1         2  icsd_183420\n",
       "2           0        Hf        Hf1 N1         2  icsd_183419\n",
       "3           1         N        Hf1 N1         2  icsd_183419\n",
       "4           0        Hf        Hf6 N8        14  icsd_097997"
      ]
     },
     "execution_count": 4,
     "metadata": {},
     "output_type": "execute_result"
    }
   ],
   "source": [
    "# load dataframe containing atomic sites from structure files \n",
    "sites = pd.read_csv('sites_from_cifs.csv').drop_duplicates(\n",
    "    subset=['id', 'site_index'])  \n",
    "sites = sites[sites.id.isin(train.id)]\n",
    "\n",
    "sites.head()"
   ]
  },
  {
   "cell_type": "code",
   "execution_count": 5,
   "metadata": {},
   "outputs": [],
   "source": [
    "# repeat each site 256 times (each site has 256 embeddings)\n",
    "site_indices = np.concatenate([np.arange(256) for _ in train.id])\n",
    "crystals = np.concatenate([np.array([id_] * 256) for id_ in train.id])\n",
    "\n",
    "index_df = pd.DataFrame(crystals, columns=['id'])\n",
    "index_df['site_index'] = site_indices"
   ]
  },
  {
   "cell_type": "code",
   "execution_count": 6,
   "metadata": {},
   "outputs": [],
   "source": [
    "# remove any duplicates\n",
    "duplicates = index_df.duplicated()\n",
    "index_no_duplicates = index_df[~duplicates]"
   ]
  },
  {
   "cell_type": "code",
   "execution_count": 7,
   "metadata": {},
   "outputs": [],
   "source": [
    "# load numpy array containing Tensorflow extracted 256-dimensional embeddings\n",
    "embed = np.load('embed_unfolded.npy')\n",
    "embed = embed.reshape((-1, 256))\n",
    "embed_no_duplicates = embed[~duplicates]"
   ]
  },
  {
   "cell_type": "code",
   "execution_count": 8,
   "metadata": {},
   "outputs": [],
   "source": [
    "embed_df = pd.DataFrame(embed_no_duplicates)\n",
    "embed_df['id'] = index_no_duplicates['id'].values\n",
    "embed_df['site_index'] = index_no_duplicates['site_index'].values"
   ]
  },
  {
   "cell_type": "code",
   "execution_count": 9,
   "metadata": {},
   "outputs": [
    {
     "data": {
      "text/plain": [
       "(6061824, 258)"
      ]
     },
     "execution_count": 9,
     "metadata": {},
     "output_type": "execute_result"
    }
   ],
   "source": [
    "embed_df.shape"
   ]
  },
  {
   "cell_type": "code",
   "execution_count": 10,
   "metadata": {},
   "outputs": [],
   "source": [
    "embed_df_reindex = embed_df.set_index(['id', 'site_index'])"
   ]
  },
  {
   "cell_type": "code",
   "execution_count": 11,
   "metadata": {},
   "outputs": [
    {
     "data": {
      "text/html": [
       "<div>\n",
       "<style scoped>\n",
       "    .dataframe tbody tr th:only-of-type {\n",
       "        vertical-align: middle;\n",
       "    }\n",
       "\n",
       "    .dataframe tbody tr th {\n",
       "        vertical-align: top;\n",
       "    }\n",
       "\n",
       "    .dataframe thead th {\n",
       "        text-align: right;\n",
       "    }\n",
       "</style>\n",
       "<table border=\"1\" class=\"dataframe\">\n",
       "  <thead>\n",
       "    <tr style=\"text-align: right;\">\n",
       "      <th></th>\n",
       "      <th></th>\n",
       "      <th>0</th>\n",
       "      <th>1</th>\n",
       "      <th>2</th>\n",
       "      <th>3</th>\n",
       "      <th>4</th>\n",
       "      <th>5</th>\n",
       "      <th>6</th>\n",
       "      <th>7</th>\n",
       "      <th>8</th>\n",
       "      <th>9</th>\n",
       "      <th>...</th>\n",
       "      <th>246</th>\n",
       "      <th>247</th>\n",
       "      <th>248</th>\n",
       "      <th>249</th>\n",
       "      <th>250</th>\n",
       "      <th>251</th>\n",
       "      <th>252</th>\n",
       "      <th>253</th>\n",
       "      <th>254</th>\n",
       "      <th>255</th>\n",
       "    </tr>\n",
       "    <tr>\n",
       "      <th>id</th>\n",
       "      <th>site_index</th>\n",
       "      <th></th>\n",
       "      <th></th>\n",
       "      <th></th>\n",
       "      <th></th>\n",
       "      <th></th>\n",
       "      <th></th>\n",
       "      <th></th>\n",
       "      <th></th>\n",
       "      <th></th>\n",
       "      <th></th>\n",
       "      <th></th>\n",
       "      <th></th>\n",
       "      <th></th>\n",
       "      <th></th>\n",
       "      <th></th>\n",
       "      <th></th>\n",
       "      <th></th>\n",
       "      <th></th>\n",
       "      <th></th>\n",
       "      <th></th>\n",
       "      <th></th>\n",
       "    </tr>\n",
       "  </thead>\n",
       "  <tbody>\n",
       "    <tr>\n",
       "      <th rowspan=\"5\" valign=\"top\">icsd_183420</th>\n",
       "      <th>0</th>\n",
       "      <td>0.074581</td>\n",
       "      <td>0.012751</td>\n",
       "      <td>-0.491594</td>\n",
       "      <td>-0.584572</td>\n",
       "      <td>0.010943</td>\n",
       "      <td>0.497070</td>\n",
       "      <td>0.710478</td>\n",
       "      <td>0.242098</td>\n",
       "      <td>0.036993</td>\n",
       "      <td>0.877057</td>\n",
       "      <td>...</td>\n",
       "      <td>0.395979</td>\n",
       "      <td>0.641993</td>\n",
       "      <td>0.116030</td>\n",
       "      <td>-0.592747</td>\n",
       "      <td>-0.087281</td>\n",
       "      <td>0.765156</td>\n",
       "      <td>0.842806</td>\n",
       "      <td>-0.176150</td>\n",
       "      <td>-0.787999</td>\n",
       "      <td>0.459984</td>\n",
       "    </tr>\n",
       "    <tr>\n",
       "      <th>1</th>\n",
       "      <td>0.052675</td>\n",
       "      <td>0.258520</td>\n",
       "      <td>-0.314539</td>\n",
       "      <td>-0.612382</td>\n",
       "      <td>-0.134685</td>\n",
       "      <td>0.333779</td>\n",
       "      <td>0.830218</td>\n",
       "      <td>0.325393</td>\n",
       "      <td>-0.269803</td>\n",
       "      <td>0.557882</td>\n",
       "      <td>...</td>\n",
       "      <td>0.228676</td>\n",
       "      <td>0.345401</td>\n",
       "      <td>0.033590</td>\n",
       "      <td>-0.340817</td>\n",
       "      <td>0.056079</td>\n",
       "      <td>0.742982</td>\n",
       "      <td>0.704648</td>\n",
       "      <td>-0.124404</td>\n",
       "      <td>-0.741073</td>\n",
       "      <td>0.530541</td>\n",
       "    </tr>\n",
       "    <tr>\n",
       "      <th>2</th>\n",
       "      <td>0.143111</td>\n",
       "      <td>0.132185</td>\n",
       "      <td>-0.165213</td>\n",
       "      <td>-0.358658</td>\n",
       "      <td>0.009667</td>\n",
       "      <td>0.102937</td>\n",
       "      <td>0.244786</td>\n",
       "      <td>0.137625</td>\n",
       "      <td>-0.116469</td>\n",
       "      <td>0.146291</td>\n",
       "      <td>...</td>\n",
       "      <td>0.237528</td>\n",
       "      <td>0.111172</td>\n",
       "      <td>-0.024468</td>\n",
       "      <td>-0.161278</td>\n",
       "      <td>0.088160</td>\n",
       "      <td>0.324993</td>\n",
       "      <td>0.198570</td>\n",
       "      <td>-0.060744</td>\n",
       "      <td>-0.344714</td>\n",
       "      <td>0.253779</td>\n",
       "    </tr>\n",
       "    <tr>\n",
       "      <th>3</th>\n",
       "      <td>0.143111</td>\n",
       "      <td>0.132185</td>\n",
       "      <td>-0.165213</td>\n",
       "      <td>-0.358658</td>\n",
       "      <td>0.009667</td>\n",
       "      <td>0.102937</td>\n",
       "      <td>0.244786</td>\n",
       "      <td>0.137625</td>\n",
       "      <td>-0.116469</td>\n",
       "      <td>0.146291</td>\n",
       "      <td>...</td>\n",
       "      <td>0.237528</td>\n",
       "      <td>0.111172</td>\n",
       "      <td>-0.024468</td>\n",
       "      <td>-0.161278</td>\n",
       "      <td>0.088160</td>\n",
       "      <td>0.324993</td>\n",
       "      <td>0.198570</td>\n",
       "      <td>-0.060744</td>\n",
       "      <td>-0.344714</td>\n",
       "      <td>0.253779</td>\n",
       "    </tr>\n",
       "    <tr>\n",
       "      <th>4</th>\n",
       "      <td>0.143111</td>\n",
       "      <td>0.132185</td>\n",
       "      <td>-0.165213</td>\n",
       "      <td>-0.358658</td>\n",
       "      <td>0.009667</td>\n",
       "      <td>0.102937</td>\n",
       "      <td>0.244786</td>\n",
       "      <td>0.137625</td>\n",
       "      <td>-0.116469</td>\n",
       "      <td>0.146291</td>\n",
       "      <td>...</td>\n",
       "      <td>0.237528</td>\n",
       "      <td>0.111172</td>\n",
       "      <td>-0.024468</td>\n",
       "      <td>-0.161278</td>\n",
       "      <td>0.088160</td>\n",
       "      <td>0.324993</td>\n",
       "      <td>0.198570</td>\n",
       "      <td>-0.060744</td>\n",
       "      <td>-0.344714</td>\n",
       "      <td>0.253779</td>\n",
       "    </tr>\n",
       "  </tbody>\n",
       "</table>\n",
       "<p>5 rows × 256 columns</p>\n",
       "</div>"
      ],
      "text/plain": [
       "                             0         1         2         3         4    \\\n",
       "id          site_index                                                     \n",
       "icsd_183420 0           0.074581  0.012751 -0.491594 -0.584572  0.010943   \n",
       "            1           0.052675  0.258520 -0.314539 -0.612382 -0.134685   \n",
       "            2           0.143111  0.132185 -0.165213 -0.358658  0.009667   \n",
       "            3           0.143111  0.132185 -0.165213 -0.358658  0.009667   \n",
       "            4           0.143111  0.132185 -0.165213 -0.358658  0.009667   \n",
       "\n",
       "                             5         6         7         8         9    ...  \\\n",
       "id          site_index                                                    ...   \n",
       "icsd_183420 0           0.497070  0.710478  0.242098  0.036993  0.877057  ...   \n",
       "            1           0.333779  0.830218  0.325393 -0.269803  0.557882  ...   \n",
       "            2           0.102937  0.244786  0.137625 -0.116469  0.146291  ...   \n",
       "            3           0.102937  0.244786  0.137625 -0.116469  0.146291  ...   \n",
       "            4           0.102937  0.244786  0.137625 -0.116469  0.146291  ...   \n",
       "\n",
       "                             246       247       248       249       250  \\\n",
       "id          site_index                                                     \n",
       "icsd_183420 0           0.395979  0.641993  0.116030 -0.592747 -0.087281   \n",
       "            1           0.228676  0.345401  0.033590 -0.340817  0.056079   \n",
       "            2           0.237528  0.111172 -0.024468 -0.161278  0.088160   \n",
       "            3           0.237528  0.111172 -0.024468 -0.161278  0.088160   \n",
       "            4           0.237528  0.111172 -0.024468 -0.161278  0.088160   \n",
       "\n",
       "                             251       252       253       254       255  \n",
       "id          site_index                                                    \n",
       "icsd_183420 0           0.765156  0.842806 -0.176150 -0.787999  0.459984  \n",
       "            1           0.742982  0.704648 -0.124404 -0.741073  0.530541  \n",
       "            2           0.324993  0.198570 -0.060744 -0.344714  0.253779  \n",
       "            3           0.324993  0.198570 -0.060744 -0.344714  0.253779  \n",
       "            4           0.324993  0.198570 -0.060744 -0.344714  0.253779  \n",
       "\n",
       "[5 rows x 256 columns]"
      ]
     },
     "execution_count": 11,
     "metadata": {},
     "output_type": "execute_result"
    }
   ],
   "source": [
    "embed_df_reindex.head()"
   ]
  },
  {
   "cell_type": "code",
   "execution_count": 12,
   "metadata": {},
   "outputs": [],
   "source": [
    "site_embeddings = embed_df_reindex.reindex(sites[['id', 'site_index']])"
   ]
  },
  {
   "cell_type": "code",
   "execution_count": 13,
   "metadata": {},
   "outputs": [
    {
     "data": {
      "text/plain": [
       "(408571, 256)"
      ]
     },
     "execution_count": 13,
     "metadata": {},
     "output_type": "execute_result"
    }
   ],
   "source": [
    "site_embeddings.shape"
   ]
  },
  {
   "cell_type": "code",
   "execution_count": 14,
   "metadata": {},
   "outputs": [
    {
     "data": {
      "text/plain": [
       "(408571, 5)"
      ]
     },
     "execution_count": 14,
     "metadata": {},
     "output_type": "execute_result"
    }
   ],
   "source": [
    "sites.shape"
   ]
  },
  {
   "cell_type": "code",
   "execution_count": 15,
   "metadata": {},
   "outputs": [],
   "source": [
    "site_embeddings.columns = site_embeddings.columns.astype(str)"
   ]
  },
  {
   "cell_type": "code",
   "execution_count": 18,
   "metadata": {},
   "outputs": [],
   "source": [
    "import numpy as np\n",
    "import pandas as pd\n",
    "\n",
    "import matplotlib.pyplot as plt\n",
    "import seaborn as sns\n",
    "sns.set(context='talk', style='ticks',\n",
    "        color_codes=True, rc={'legend.frameon': False})\n",
    "\n",
    "%matplotlib inline"
   ]
  },
  {
   "cell_type": "code",
   "execution_count": 19,
   "metadata": {},
   "outputs": [],
   "source": [
    "embeddings = site_embeddings.reset_index(drop=True)"
   ]
  },
  {
   "cell_type": "code",
   "execution_count": 22,
   "metadata": {},
   "outputs": [
    {
     "data": {
      "text/html": [
       "<div>\n",
       "<style scoped>\n",
       "    .dataframe tbody tr th:only-of-type {\n",
       "        vertical-align: middle;\n",
       "    }\n",
       "\n",
       "    .dataframe tbody tr th {\n",
       "        vertical-align: top;\n",
       "    }\n",
       "\n",
       "    .dataframe thead th {\n",
       "        text-align: right;\n",
       "    }\n",
       "</style>\n",
       "<table border=\"1\" class=\"dataframe\">\n",
       "  <thead>\n",
       "    <tr style=\"text-align: right;\">\n",
       "      <th></th>\n",
       "      <th>site_index</th>\n",
       "      <th>site_type</th>\n",
       "      <th>sortedformula</th>\n",
       "      <th>numsites</th>\n",
       "      <th>id</th>\n",
       "    </tr>\n",
       "  </thead>\n",
       "  <tbody>\n",
       "    <tr>\n",
       "      <th>0</th>\n",
       "      <td>0</td>\n",
       "      <td>Hf</td>\n",
       "      <td>Hf1 N1</td>\n",
       "      <td>2</td>\n",
       "      <td>icsd_183420</td>\n",
       "    </tr>\n",
       "    <tr>\n",
       "      <th>1</th>\n",
       "      <td>1</td>\n",
       "      <td>N</td>\n",
       "      <td>Hf1 N1</td>\n",
       "      <td>2</td>\n",
       "      <td>icsd_183420</td>\n",
       "    </tr>\n",
       "    <tr>\n",
       "      <th>2</th>\n",
       "      <td>0</td>\n",
       "      <td>Hf</td>\n",
       "      <td>Hf1 N1</td>\n",
       "      <td>2</td>\n",
       "      <td>icsd_183419</td>\n",
       "    </tr>\n",
       "    <tr>\n",
       "      <th>3</th>\n",
       "      <td>1</td>\n",
       "      <td>N</td>\n",
       "      <td>Hf1 N1</td>\n",
       "      <td>2</td>\n",
       "      <td>icsd_183419</td>\n",
       "    </tr>\n",
       "    <tr>\n",
       "      <th>4</th>\n",
       "      <td>0</td>\n",
       "      <td>Hf</td>\n",
       "      <td>Hf6 N8</td>\n",
       "      <td>14</td>\n",
       "      <td>icsd_097997</td>\n",
       "    </tr>\n",
       "  </tbody>\n",
       "</table>\n",
       "</div>"
      ],
      "text/plain": [
       "   site_index site_type sortedformula  numsites           id\n",
       "0           0        Hf        Hf1 N1         2  icsd_183420\n",
       "1           1         N        Hf1 N1         2  icsd_183420\n",
       "2           0        Hf        Hf1 N1         2  icsd_183419\n",
       "3           1         N        Hf1 N1         2  icsd_183419\n",
       "4           0        Hf        Hf6 N8        14  icsd_097997"
      ]
     },
     "execution_count": 22,
     "metadata": {},
     "output_type": "execute_result"
    }
   ],
   "source": [
    "train = pd.read_csv('train.csv.gz')\n",
    "sites = pd.read_csv('sites_from_cifs.csv').drop_duplicates(\n",
    "    subset=['id', 'site_index'])\n",
    "sites = sites[sites.id.isin(train.id)]\n",
    "\n",
    "sites = sites.reset_index(drop=True)\n",
    "\n",
    "sites.head()"
   ]
  },
  {
   "cell_type": "code",
   "execution_count": 23,
   "metadata": {},
   "outputs": [
    {
     "data": {
      "text/plain": [
       "(408571, 256)"
      ]
     },
     "execution_count": 23,
     "metadata": {},
     "output_type": "execute_result"
    }
   ],
   "source": [
    "embeddings.shape"
   ]
  },
  {
   "cell_type": "code",
   "execution_count": 24,
   "metadata": {},
   "outputs": [
    {
     "data": {
      "text/plain": [
       "(408571, 5)"
      ]
     },
     "execution_count": 24,
     "metadata": {},
     "output_type": "execute_result"
    }
   ],
   "source": [
    "sites.shape"
   ]
  },
  {
   "cell_type": "code",
   "execution_count": 25,
   "metadata": {},
   "outputs": [],
   "source": [
    "from sklearn.decomposition import PCA\n",
    "from sklearn.manifold import TSNE"
   ]
  },
  {
   "cell_type": "code",
   "execution_count": 26,
   "metadata": {},
   "outputs": [
    {
     "name": "stdout",
     "output_type": "stream",
     "text": [
      "[t-SNE] Computing 91 nearest neighbors...\n",
      "[t-SNE] Indexed 6553 samples in 0.007s...\n",
      "[t-SNE] Computed neighbors for 6553 samples in 0.303s...\n",
      "[t-SNE] Computed conditional probabilities for sample 1000 / 6553\n",
      "[t-SNE] Computed conditional probabilities for sample 2000 / 6553\n",
      "[t-SNE] Computed conditional probabilities for sample 3000 / 6553\n",
      "[t-SNE] Computed conditional probabilities for sample 4000 / 6553\n",
      "[t-SNE] Computed conditional probabilities for sample 5000 / 6553\n",
      "[t-SNE] Computed conditional probabilities for sample 6000 / 6553\n",
      "[t-SNE] Computed conditional probabilities for sample 6553 / 6553\n",
      "[t-SNE] Mean sigma: 0.069896\n",
      "[t-SNE] Computed conditional probabilities in 0.574s\n",
      "[t-SNE] Iteration 50: error = 71.3896027, gradient norm = 0.0068959 (50 iterations in 0.735s)\n",
      "[t-SNE] Iteration 100: error = 68.1519547, gradient norm = 0.0043007 (50 iterations in 0.524s)\n",
      "[t-SNE] Iteration 150: error = 66.6865845, gradient norm = 0.0030056 (50 iterations in 0.519s)\n",
      "[t-SNE] Iteration 200: error = 65.8118134, gradient norm = 0.0032061 (50 iterations in 0.515s)\n",
      "[t-SNE] Iteration 250: error = 65.1802979, gradient norm = 0.0020533 (50 iterations in 0.517s)\n",
      "[t-SNE] KL divergence after 250 iterations with early exaggeration: 65.180298\n",
      "[t-SNE] Iteration 300: error = 1.7704196, gradient norm = 0.0013462 (50 iterations in 0.575s)\n",
      "[t-SNE] Iteration 350: error = 1.1854022, gradient norm = 0.0006064 (50 iterations in 0.610s)\n",
      "[t-SNE] Iteration 400: error = 0.9151728, gradient norm = 0.0003557 (50 iterations in 0.611s)\n",
      "[t-SNE] Iteration 450: error = 0.7666752, gradient norm = 0.0002383 (50 iterations in 0.617s)\n",
      "[t-SNE] Iteration 500: error = 0.6769869, gradient norm = 0.0001746 (50 iterations in 0.617s)\n",
      "[t-SNE] Iteration 550: error = 0.6174095, gradient norm = 0.0001351 (50 iterations in 0.615s)\n",
      "[t-SNE] Iteration 600: error = 0.5759322, gradient norm = 0.0001117 (50 iterations in 0.611s)\n",
      "[t-SNE] Iteration 650: error = 0.5472528, gradient norm = 0.0000979 (50 iterations in 0.609s)\n",
      "[t-SNE] Iteration 700: error = 0.5277109, gradient norm = 0.0000877 (50 iterations in 0.608s)\n",
      "[t-SNE] Iteration 750: error = 0.5123432, gradient norm = 0.0000820 (50 iterations in 0.607s)\n",
      "[t-SNE] Iteration 800: error = 0.5003188, gradient norm = 0.0000778 (50 iterations in 0.605s)\n",
      "[t-SNE] Iteration 850: error = 0.4915955, gradient norm = 0.0000727 (50 iterations in 0.607s)\n",
      "[t-SNE] Iteration 900: error = 0.4836182, gradient norm = 0.0000697 (50 iterations in 0.608s)\n",
      "[t-SNE] Iteration 950: error = 0.4780005, gradient norm = 0.0000685 (50 iterations in 0.608s)\n",
      "[t-SNE] Iteration 1000: error = 0.4734220, gradient norm = 0.0000688 (50 iterations in 0.610s)\n",
      "[t-SNE] KL divergence after 1000 iterations: 0.473422\n"
     ]
    }
   ],
   "source": [
    "# perform PCA followed by tsne on 'Ba' site embeddings\n",
    "pca_xform = PCA(n_components=10, whiten=False).fit_transform(embeddings[sites.site_type == 'Ba'])\n",
    "\n",
    "tsne = TSNE(n_components=2, init='pca',\n",
    "            random_state=0, verbose=10)\n",
    "\n",
    "Y = tsne.fit_transform(pca_xform)"
   ]
  },
  {
   "cell_type": "code",
   "execution_count": 27,
   "metadata": {},
   "outputs": [
    {
     "data": {
      "text/plain": [
       "(6553, 2)"
      ]
     },
     "execution_count": 27,
     "metadata": {},
     "output_type": "execute_result"
    }
   ],
   "source": [
    "Y.shape"
   ]
  },
  {
   "cell_type": "code",
   "execution_count": 28,
   "metadata": {},
   "outputs": [],
   "source": [
    "# path to current directory containing \"*_only.csv\" files (atomic sites by site class: chalcogens, halogens, tetrels, pnitogens)\n",
    "ba_path = os.getcwd()\n",
    "\n",
    "dfs = []\n",
    "for file in os.listdir(ba_path):\n",
    "    if file.endswith('only.csv'):\n",
    "        dfs += [pd.read_csv(os.path.join(ba_path, file))]"
   ]
  },
  {
   "cell_type": "code",
   "execution_count": 29,
   "metadata": {},
   "outputs": [],
   "source": [
    "site_types = pd.concat(dfs)[['site_index', 'id', 'site_type', 'site_nrg']]"
   ]
  },
  {
   "cell_type": "code",
   "execution_count": 30,
   "metadata": {},
   "outputs": [],
   "source": [
    "ba_sites = sites[sites.site_type == 'Ba']\n",
    "ba_sites = ba_sites.merge(site_types.rename(columns={'site_type': 'class'}),\n",
    "                          on=['site_index', 'id'], how='left')"
   ]
  },
  {
   "cell_type": "code",
   "execution_count": 31,
   "metadata": {},
   "outputs": [],
   "source": [
    "ba_sites['tsne_x'] = Y[:, 0]\n",
    "ba_sites['tsne_y'] = Y[:, 1]"
   ]
  },
  {
   "cell_type": "code",
   "execution_count": 32,
   "metadata": {},
   "outputs": [
    {
     "data": {
      "text/plain": [
       "Text(0.5, 1.0, 'Ba sites T-SNE')"
      ]
     },
     "execution_count": 32,
     "metadata": {},
     "output_type": "execute_result"
    },
    {
     "data": {
      "image/png": "[encoded data removed]",
      "text/plain": [
       "<Figure size 288x288 with 1 Axes>"
      ]
     },
     "metadata": {
      "needs_background": "light"
     },
     "output_type": "display_data"
    }
   ],
   "source": [
    "# plot tsne x and y components\n",
    "fig = plt.figure(figsize=(4,4))\n",
    "for class_, df in ba_sites.groupby('class'):\n",
    "    plt.plot(df.tsne_x, df.tsne_y, '.', ms=2.5, label=class_)\n",
    "\n",
    "plt.legend(loc='center left', bbox_to_anchor=(1, .5), markerscale=5)\n",
    "plt.title('Ba sites T-SNE')"
   ]
  },
  {
   "cell_type": "code",
   "execution_count": 33,
   "metadata": {},
   "outputs": [
    {
     "data": {
      "text/plain": [
       "Text(0.5, 1.0, 'Ba sites T-SNE')"
      ]
     },
     "execution_count": 33,
     "metadata": {},
     "output_type": "execute_result"
    },
    {
     "data": {
      "image/png": "[encoded data removed]",
      "text/plain": [
       "<Figure size 360x288 with 2 Axes>"
      ]
     },
     "metadata": {
      "needs_background": "light"
     },
     "output_type": "display_data"
    }
   ],
   "source": [
    "fig = plt.figure(figsize=(5,4))\n",
    "\n",
    "plt.scatter(ba_sites.tsne_x, ba_sites.tsne_y, c=ba_sites.site_nrg, s=2.5)\n",
    "cbar = plt.colorbar()\n",
    "cbar.set_label('Predicted site energy')\n",
    "\n",
    "#plt.legend(loc='center left', bbox_to_anchor=(1, .5), markerscale=5)\n",
    "plt.title('Ba sites T-SNE')"
   ]
  }
 ],
 "metadata": {
  "kernelspec": {
   "display_name": "tf2-gpu",
   "language": "python",
   "name": "tf2_gpu"
  },
  "language_info": {
   "codemirror_mode": {
    "name": "ipython",
    "version": 3
   },
   "file_extension": ".py",
   "mimetype": "text/x-python",
   "name": "python",
   "nbconvert_exporter": "python",
   "pygments_lexer": "ipython3",
   "version": "3.7.8"
  }
 },
 "nbformat": 4,
 "nbformat_minor": 2
}
